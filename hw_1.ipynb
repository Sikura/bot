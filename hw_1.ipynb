{
  "nbformat": 4,
  "nbformat_minor": 0,
  "metadata": {
    "kernelspec": {
      "display_name": "Python 3",
      "language": "python",
      "name": "python3"
    },
    "language_info": {
      "codemirror_mode": {
        "name": "ipython",
        "version": 3
      },
      "file_extension": ".py",
      "mimetype": "text/x-python",
      "name": "python",
      "nbconvert_exporter": "python",
      "pygments_lexer": "ipython3",
      "version": "3.7.3"
    },
    "colab": {
      "name": "hw_1.ipynb",
      "provenance": [],
      "collapsed_sections": [],
      "include_colab_link": true
    }
  },
  "cells": [
    {
      "cell_type": "markdown",
      "metadata": {
        "id": "view-in-github",
        "colab_type": "text"
      },
      "source": [
        "<a href=\"https://colab.research.google.com/github/Sikura/bot/blob/master/hw_1.ipynb\" target=\"_parent\"><img src=\"https://colab.research.google.com/assets/colab-badge.svg\" alt=\"Open In Colab\"/></a>"
      ]
    },
    {
      "cell_type": "markdown",
      "metadata": {
        "id": "aCkR6nvificC",
        "colab_type": "text"
      },
      "source": [
        "# \"Продвинутый Python\". Магистерская программа ВШЭ."
      ]
    },
    {
      "cell_type": "markdown",
      "metadata": {
        "id": "Br35MwK8ficE",
        "colab_type": "text"
      },
      "source": [
        "**Цель курса**: получить предстваление о принципах создания сервисов и реализовать их в собственном ML-проекте.\n",
        "\n",
        "**Ключевые навыки**: ООП, Django, luigi"
      ]
    },
    {
      "cell_type": "markdown",
      "metadata": {
        "id": "JaYGWxbYficF",
        "colab_type": "text"
      },
      "source": [
        "### Отчётность\n",
        "\n",
        "Зачётные баллы будут даваться за:\n",
        "\n",
        "1) __Курсовой проект__ \n",
        "\n",
        "В курсовом проекте необходимо будет сделать сервис, например, для решения какой-нибудь ML-задачи (но не обязательно). Список требований к сервису будет озвучен позже. За проект можно получить до **6 баллов**, причем проект должен сдаваться не за один раз. \n",
        "\n",
        "2) __Контрольные работы, контесты__ (но это не точно)\n",
        "\n",
        "Проводятся на занятиях. Могут принести до **2 баллов**.\n",
        "\n",
        "3) __Домашние задания__\n",
        "\n",
        "Могут принести неопределенное количество баллов.\n",
        "\n",
        "4) __Задания на занятии__\n",
        "\n",
        "Несложные задания за мелкие баллы.\n",
        "\n",
        "Суммарно можно будет **получить больше 10 баллов**. **Баллов хватит на всех :)**\n",
        "\n",
        "Все задачи должны быть оформлены в соответствии с PEP 8."
      ]
    },
    {
      "cell_type": "markdown",
      "metadata": {
        "id": "r5sGDFJeficG",
        "colab_type": "text"
      },
      "source": [
        "## Занятие №0. Core libraries. Разминка."
      ]
    },
    {
      "cell_type": "code",
      "metadata": {
        "id": "9CIByMD9ficH",
        "colab_type": "code",
        "colab": {}
      },
      "source": [
        "import sys"
      ],
      "execution_count": 0,
      "outputs": []
    },
    {
      "cell_type": "markdown",
      "metadata": {
        "id": "a_UgJaZzficN",
        "colab_type": "text"
      },
      "source": [
        "**Как получить путь к интерпретатору?**"
      ]
    },
    {
      "cell_type": "code",
      "metadata": {
        "id": "qvSfhuvhficN",
        "colab_type": "code",
        "outputId": "8f89d481-013e-4531-ad3a-a56db300e7ca",
        "colab": {
          "base_uri": "https://localhost:8080/",
          "height": 34
        }
      },
      "source": [
        "print(sys.executable)"
      ],
      "execution_count": 0,
      "outputs": [
        {
          "output_type": "stream",
          "text": [
            "/usr/bin/python3\n"
          ],
          "name": "stdout"
        }
      ]
    },
    {
      "cell_type": "markdown",
      "metadata": {
        "id": "R1sY2b4cficQ",
        "colab_type": "text"
      },
      "source": [
        "**Как узнать, где ищутся модули для импорта?**"
      ]
    },
    {
      "cell_type": "code",
      "metadata": {
        "id": "sLzAYbpTficQ",
        "colab_type": "code",
        "outputId": "27eae738-55c5-4bba-8306-ab2437ed1b16",
        "colab": {
          "base_uri": "https://localhost:8080/",
          "height": 54
        }
      },
      "source": [
        "print(sys.path)"
      ],
      "execution_count": 0,
      "outputs": [
        {
          "output_type": "stream",
          "text": [
            "['', '/env/python', '/usr/lib/python36.zip', '/usr/lib/python3.6', '/usr/lib/python3.6/lib-dynload', '/usr/local/lib/python3.6/dist-packages', '/usr/lib/python3/dist-packages', '/usr/local/lib/python3.6/dist-packages/IPython/extensions', '/root/.ipython']\n"
          ],
          "name": "stdout"
        }
      ]
    },
    {
      "cell_type": "markdown",
      "metadata": {
        "id": "kfpuDndUficT",
        "colab_type": "text"
      },
      "source": [
        "**Что может помочь написать кросс-платформенный код?**"
      ]
    },
    {
      "cell_type": "code",
      "metadata": {
        "id": "gzi5C7Q3ficU",
        "colab_type": "code",
        "outputId": "e4e609d4-5926-44cc-b07d-277948910cbe",
        "colab": {
          "base_uri": "https://localhost:8080/",
          "height": 34
        }
      },
      "source": [
        "print(sys.platform)"
      ],
      "execution_count": 0,
      "outputs": [
        {
          "output_type": "stream",
          "text": [
            "linux\n"
          ],
          "name": "stdout"
        }
      ]
    },
    {
      "cell_type": "markdown",
      "metadata": {
        "id": "Snf7rNrNficX",
        "colab_type": "text"
      },
      "source": [
        "**Как перенаправить поток вывода?**"
      ]
    },
    {
      "cell_type": "code",
      "metadata": {
        "id": "wwOjWtHTficY",
        "colab_type": "code",
        "colab": {}
      },
      "source": [
        "with open('log.txt', 'w') as f:\n",
        "    print(2, file=f)"
      ],
      "execution_count": 0,
      "outputs": []
    },
    {
      "cell_type": "markdown",
      "metadata": {
        "id": "gdUnCcfgficc",
        "colab_type": "text"
      },
      "source": [
        "### Задача №0"
      ]
    },
    {
      "cell_type": "markdown",
      "metadata": {
        "id": "-D6YOC-7ficc",
        "colab_type": "text"
      },
      "source": [
        "Вывести распределение слов в Zen of Python."
      ]
    },
    {
      "cell_type": "code",
      "metadata": {
        "scrolled": true,
        "id": "X-UA6UWdficd",
        "colab_type": "code",
        "colab": {}
      },
      "source": [
        "from io import StringIO\n",
        "\n",
        "import sys"
      ],
      "execution_count": 0,
      "outputs": []
    },
    {
      "cell_type": "markdown",
      "metadata": {
        "id": "yom3W5S_ficf",
        "colab_type": "text"
      },
      "source": [
        "Перенаправим поток вывода в переменную"
      ]
    },
    {
      "cell_type": "code",
      "metadata": {
        "id": "rbQTnmivficg",
        "colab_type": "code",
        "colab": {}
      },
      "source": [
        "stdout = sys.stdout\n",
        "\n",
        "text_from_this = StringIO()\n",
        "sys.stdout = text_from_this"
      ],
      "execution_count": 0,
      "outputs": []
    },
    {
      "cell_type": "markdown",
      "metadata": {
        "id": "MV0XmYGvfici",
        "colab_type": "text"
      },
      "source": [
        "Запишем Zen of Python в переменную `text_from_this` и вернем консольный вывод"
      ]
    },
    {
      "cell_type": "code",
      "metadata": {
        "id": "UNEHoCWDficj",
        "colab_type": "code",
        "colab": {}
      },
      "source": [
        "import this"
      ],
      "execution_count": 0,
      "outputs": []
    },
    {
      "cell_type": "code",
      "metadata": {
        "id": "bEjWZr1Rficl",
        "colab_type": "code",
        "colab": {}
      },
      "source": [
        "sys.stdout = stdout "
      ],
      "execution_count": 0,
      "outputs": []
    },
    {
      "cell_type": "code",
      "metadata": {
        "id": "pcCLeEd_ficn",
        "colab_type": "code",
        "colab": {}
      },
      "source": [
        "import re\n",
        "from collections import Counter, OrderedDict"
      ],
      "execution_count": 0,
      "outputs": []
    },
    {
      "cell_type": "code",
      "metadata": {
        "id": "pI0TW4-gficp",
        "colab_type": "code",
        "colab": {}
      },
      "source": [
        "mapping_rules = {\n",
        "    \"[-.\\n,*!]\": \" \",\n",
        "    \"n't\": \" not\",\n",
        "    \"'re\": \" are\",\n",
        "    \"it's\": \"it is\",\n",
        "    \"let's\": \"let us\"\n",
        "}"
      ],
      "execution_count": 0,
      "outputs": []
    },
    {
      "cell_type": "markdown",
      "metadata": {
        "id": "eJV6iHw7fics",
        "colab_type": "text"
      },
      "source": [
        "Подумайте, в чем непотимальность следующего блока? Как сделать оптимальным?"
      ]
    },
    {
      "cell_type": "code",
      "metadata": {
        "id": "utAoMseVfict",
        "colab_type": "code",
        "colab": {}
      },
      "source": [
        "zen_string = text_from_this.getvalue().lower()\n",
        "\n",
        "for rule in mapping_rules:\n",
        "    zen_string = re.sub(rule, mapping_rules[rule], zen_string)"
      ],
      "execution_count": 0,
      "outputs": []
    },
    {
      "cell_type": "code",
      "metadata": {
        "scrolled": true,
        "id": "E07KS30pficw",
        "colab_type": "code",
        "outputId": "71a92c6d-6ab2-4037-9253-963da3650228",
        "colab": {
          "base_uri": "https://localhost:8080/",
          "height": 1000
        }
      },
      "source": [
        "words_distribution = Counter(zen_string.split())\n",
        "words_distribution.most_common()"
      ],
      "execution_count": 0,
      "outputs": [
        {
          "output_type": "execute_result",
          "data": {
            "text/plain": [
              "[('is', 11),\n",
              " ('better', 8),\n",
              " ('than', 8),\n",
              " ('the', 6),\n",
              " ('to', 5),\n",
              " ('of', 3),\n",
              " ('are', 3),\n",
              " ('although', 3),\n",
              " ('never', 3),\n",
              " ('be', 3),\n",
              " ('one', 3),\n",
              " ('it', 3),\n",
              " ('idea', 3),\n",
              " ('complex', 2),\n",
              " ('special', 2),\n",
              " ('not', 2),\n",
              " ('should', 2),\n",
              " ('unless', 2),\n",
              " ('obvious', 2),\n",
              " ('way', 2),\n",
              " ('do', 2),\n",
              " ('may', 2),\n",
              " ('now', 2),\n",
              " ('if', 2),\n",
              " ('implementation', 2),\n",
              " ('explain', 2),\n",
              " ('a', 2),\n",
              " ('zen', 1),\n",
              " ('python', 1),\n",
              " ('by', 1),\n",
              " ('tim', 1),\n",
              " ('peters', 1),\n",
              " ('beautiful', 1),\n",
              " ('ugly', 1),\n",
              " ('explicit', 1),\n",
              " ('implicit', 1),\n",
              " ('simple', 1),\n",
              " ('complicated', 1),\n",
              " ('flat', 1),\n",
              " ('nested', 1),\n",
              " ('sparse', 1),\n",
              " ('dense', 1),\n",
              " ('readability', 1),\n",
              " ('counts', 1),\n",
              " ('cases', 1),\n",
              " ('enough', 1),\n",
              " ('break', 1),\n",
              " ('rules', 1),\n",
              " ('practicality', 1),\n",
              " ('beats', 1),\n",
              " ('purity', 1),\n",
              " ('errors', 1),\n",
              " ('pass', 1),\n",
              " ('silently', 1),\n",
              " ('explicitly', 1),\n",
              " ('silenced', 1),\n",
              " ('in', 1),\n",
              " ('face', 1),\n",
              " ('ambiguity', 1),\n",
              " ('refuse', 1),\n",
              " ('temptation', 1),\n",
              " ('guess', 1),\n",
              " ('there', 1),\n",
              " ('and', 1),\n",
              " ('preferably', 1),\n",
              " ('only', 1),\n",
              " ('that', 1),\n",
              " ('at', 1),\n",
              " ('first', 1),\n",
              " ('you', 1),\n",
              " ('dutch', 1),\n",
              " ('often', 1),\n",
              " ('right', 1),\n",
              " ('hard', 1),\n",
              " ('bad', 1),\n",
              " ('easy', 1),\n",
              " ('good', 1),\n",
              " ('namespaces', 1),\n",
              " ('honking', 1),\n",
              " ('great', 1),\n",
              " ('let', 1),\n",
              " ('us', 1),\n",
              " ('more', 1),\n",
              " ('those', 1)]"
            ]
          },
          "metadata": {
            "tags": []
          },
          "execution_count": 14
        }
      ]
    },
    {
      "cell_type": "markdown",
      "metadata": {
        "id": "0Kn1qEc3ficy",
        "colab_type": "text"
      },
      "source": [
        "### Домашнее задание №0 [0.2 балла]"
      ]
    },
    {
      "cell_type": "markdown",
      "metadata": {
        "id": "ZRLpy6Nzficz",
        "colab_type": "text"
      },
      "source": [
        "**Условие**:\n",
        "\n",
        "Функция `delete_zeros_from_array` принимает на вход массив целых чисел из промежутка [0; 5] и удалает из него все _нули_. Алгоритм должен иметь сложность `O(N)`, где N - длина массива, и использовать `O(1)` дополнительной памяти.\n",
        "\n",
        "Построить **графики** зависимости времени работы алгоритма от количества элементов в нем. \n",
        "\n",
        "**Примечания**:\n",
        "\n",
        "1) Для наглядности лучше генерить массивы, в которых количество удаляемых элементов **больше трети** от всех элементов.\n",
        "\n",
        "2) В такой постановке можно проверить, как разработчик выбирает имена переменных и думает ли о функции глобально. Например, следующим вопросом было бы \"А что если хотим удалять единицы?\""
      ]
    },
    {
      "cell_type": "code",
      "metadata": {
        "id": "WxQ0mzY6ficz",
        "colab_type": "code",
        "colab": {}
      },
      "source": [
        "# Bad way\n",
        "\n",
        "def delete_zeros_from_array(array):\n",
        "    #     logic for deleting zeroes\n",
        "    pass"
      ],
      "execution_count": 0,
      "outputs": []
    },
    {
      "cell_type": "code",
      "metadata": {
        "id": "jBwqVSx94xcR",
        "colab_type": "code",
        "colab": {}
      },
      "source": [
        "%matplotlib inline\n",
        "import matplotlib.pyplot as plt"
      ],
      "execution_count": 0,
      "outputs": []
    },
    {
      "cell_type": "code",
      "metadata": {
        "id": "SEdxwpz467BD",
        "colab_type": "code",
        "colab": {}
      },
      "source": [
        "import datetime"
      ],
      "execution_count": 0,
      "outputs": []
    },
    {
      "cell_type": "code",
      "metadata": {
        "id": "LJJ3RO4S696a",
        "colab_type": "code",
        "colab": {}
      },
      "source": [
        "def time_measure(func, numbers):\n",
        "  start_time = datetime.datetime.now()\n",
        "  for i in range(numbers):\n",
        "    func\n",
        "  result_time = datetime.datetime.now() - start_time\n",
        "  return result_time"
      ],
      "execution_count": 0,
      "outputs": []
    },
    {
      "cell_type": "code",
      "metadata": {
        "id": "yTKHCclpfic3",
        "colab_type": "code",
        "colab": {}
      },
      "source": [
        "# Not bad way\n",
        "\n",
        "from functools import partial\n",
        "\n",
        "from random import seed\n",
        "from random import randint\n",
        "# seed random integer generator\n",
        "seed(1)\n",
        "# generate random lists for different N values\n",
        "N_list = [1000,10000,1000000,10000000]\n",
        "for n in N_list:\n",
        "  globals()['rand_%s' % n] = [randint(0, 5) for x in range(n)]\n",
        "  #print(globals()['rand_%s' % n])\n",
        "  \n",
        "  \n",
        "def delete_elements_from_array(array, element):\n",
        "    result_array = [ x for x in array if x!= element]\n",
        "    return result_array\n",
        "  \n",
        "  \n",
        "    \"\"\"\n",
        "        This function deletes all elements that equal to element from array. \n",
        "        \n",
        "        :param array: Input array\n",
        "        :type array: list\n",
        "        :param element: Element that must be deleted from array\n",
        "        :type element: int\n",
        "        \n",
        "        :returns: New array without element with the other elements in the same order\n",
        "        :rtype: list\n",
        "    \"\"\"\n",
        "    \n",
        "#delete_zeros_from_array = partial(delete_elements_from_array, element=0)\n",
        "#print(delete_elements_from_array(rand_5, 0))\n",
        "\n"
      ],
      "execution_count": 0,
      "outputs": []
    },
    {
      "cell_type": "code",
      "metadata": {
        "id": "ihZs7WtP-M54",
        "colab_type": "code",
        "outputId": "535c0e79-1f92-40f3-fff1-32ca1bb3e48f",
        "colab": {
          "base_uri": "https://localhost:8080/",
          "height": 85
        }
      },
      "source": [
        "time_list=[]\n",
        "for n in N_list:\n",
        "  time_list.append((time_measure(delete_elements_from_array(globals()['rand_%s' % n],0), 10000)))\n",
        "  print(time_measure(delete_elements_from_array(globals()['rand_%s' % n],0), 10000))"
      ],
      "execution_count": 0,
      "outputs": [
        {
          "output_type": "stream",
          "text": [
            "0:00:00.000218\n",
            "0:00:00.000220\n",
            "0:00:00.000245\n",
            "0:00:00.000250\n"
          ],
          "name": "stdout"
        }
      ]
    },
    {
      "cell_type": "code",
      "metadata": {
        "id": "G7MaPHdLGEYj",
        "colab_type": "code",
        "colab": {}
      },
      "source": [
        "time_list_float = [x.total_seconds() for x in time_list]"
      ],
      "execution_count": 0,
      "outputs": []
    },
    {
      "cell_type": "code",
      "metadata": {
        "id": "J1QiwatKGmDS",
        "colab_type": "code",
        "outputId": "5a763384-a771-4e8c-f09f-107decc2968a",
        "colab": {
          "base_uri": "https://localhost:8080/",
          "height": 283
        }
      },
      "source": [
        "plt.scatter(N_list,time_list_float)\n",
        "plt.xlabel(\"Number of elements in array\")\n",
        "plt.ylabel(\"Time\")\n",
        "plt.show()"
      ],
      "execution_count": 0,
      "outputs": [
        {
          "output_type": "display_data",
          "data": {
            "image/png": "[encoded data removed]",
            "text/plain": [
              "<Figure size 432x288 with 1 Axes>"
            ]
          },
          "metadata": {
            "tags": []
          }
        }
      ]
    },
    {
      "cell_type": "markdown",
      "metadata": {
        "id": "n1TyNqPpfic5",
        "colab_type": "text"
      },
      "source": [
        "Зачем нужна doc string? Как её посмотерть?"
      ]
    },
    {
      "cell_type": "markdown",
      "metadata": {
        "id": "G2zZ8bYEfic6",
        "colab_type": "text"
      },
      "source": [
        "### Домашнее задание №1 [0.05 балла]\n",
        "\n",
        "**Условие**:\n",
        "\n",
        "Написать функцию (-и), которая принимает на вход 3 комплексных числа и выводит минимальное из них по модулю без использования функций min, max, sort и т.д.\n",
        "\n",
        "\n",
        "**Комментарии**:\n",
        "\n",
        "1) В процессе сдачи задания, можно будет получить дополнительные баллы\n",
        "\n",
        "2) Код должен быть пригоден для промышленного использования"
      ]
    },
    {
      "cell_type": "markdown",
      "metadata": {
        "id": "8nuTWl3TODks",
        "colab_type": "text"
      },
      "source": [
        "Модулем комплексного числа a+b*i является квадтраный корень из a^2+b^2, соответственно для решения задачи достаточно найти a^2+b^2 для каждого из чисел, и провести сравнение, здесь же стоит условиться, что мы не знаем специфику задачи, возможно было бы логично производить сравнение комплексных чисел в каждой из четвертей отдельно, но в задаче требуют именно сравнение модулей."
      ]
    },
    {
      "cell_type": "code",
      "metadata": {
        "id": "aOa7mKyAUkFK",
        "colab_type": "code",
        "colab": {}
      },
      "source": [
        "from random import seed\n",
        "from random import random"
      ],
      "execution_count": 0,
      "outputs": []
    },
    {
      "cell_type": "code",
      "metadata": {
        "id": "SKhEMREMOCoJ",
        "colab_type": "code",
        "colab": {}
      },
      "source": [
        "# create 3 random complex numbers\n",
        "num_of_compx_nums = 3\n",
        "list_of_complex_nums=[]\n",
        "for i in range(3):\n",
        "  r_part = randint(0, 100)\n",
        "  im_part = randint(1, 100)\n",
        "  globals()['complex_number_%s' % i ] = complex(r_part,im_part)\n",
        "  list_of_complex_nums.append(globals()['complex_number_%s' % i ])"
      ],
      "execution_count": 0,
      "outputs": []
    },
    {
      "cell_type": "code",
      "metadata": {
        "id": "NCRpkdDrXjPn",
        "colab_type": "code",
        "colab": {}
      },
      "source": [
        "def compare_modules_complex(aList):\n",
        "  list_mod_sq=[]\n",
        "  min_module_num= None\n",
        "  for i in range(len(aList)):\n",
        "    c_n = aList[i]\n",
        "    c_n_r = c_n.real\n",
        "    c_n_i = c_n.imag\n",
        "    mod_sq = (c_n_r)**2+(c_n_i)**2\n",
        "    globals()['mod_sq_%s' % i] = mod_sq\n",
        "    list_mod_sq.append(mod_sq)\n",
        "  for i in range(len(list_mod_sq)):\n",
        "    for j in range(len(list_mod_sq)):\n",
        "      if list_mod_sq[i] <= list_mod_sq[j]:\n",
        "        if j != len(list_mod_sq)-1:\n",
        "          continue\n",
        "        else:\n",
        "          min_module_num=i\n",
        "      else:\n",
        "        break\n",
        "  return aList[min_module_num]        "
      ],
      "execution_count": 0,
      "outputs": []
    },
    {
      "cell_type": "code",
      "metadata": {
        "id": "IcuSPg9Kkfsf",
        "colab_type": "code",
        "outputId": "db72d8e7-94e4-4caf-b872-b8fa4b82b6b0",
        "colab": {
          "base_uri": "https://localhost:8080/",
          "height": 34
        }
      },
      "source": [
        "#checking\n",
        "compare_modules_complex(list_of_complex_nums)"
      ],
      "execution_count": 0,
      "outputs": [
        {
          "output_type": "execute_result",
          "data": {
            "text/plain": [
              "(36+12j)"
            ]
          },
          "metadata": {
            "tags": []
          },
          "execution_count": 7
        }
      ]
    },
    {
      "cell_type": "code",
      "metadata": {
        "id": "RTMLfz8TkBF-",
        "colab_type": "code",
        "outputId": "49e91628-9a6e-4024-c7fd-c22ec6ec9a3c",
        "colab": {
          "base_uri": "https://localhost:8080/",
          "height": 68
        }
      },
      "source": [
        "#checking\n",
        "print(mod_sq_0)\n",
        "print(mod_sq_1)\n",
        "print(mod_sq_2)"
      ],
      "execution_count": 0,
      "outputs": [
        {
          "output_type": "stream",
          "text": [
            "10130.0\n",
            "1440.0\n",
            "2000.0\n"
          ],
          "name": "stdout"
        }
      ]
    },
    {
      "cell_type": "markdown",
      "metadata": {
        "id": "o-4Rtws_fic7",
        "colab_type": "text"
      },
      "source": [
        "### Домашнее задание №2 [0.18 балла]"
      ]
    },
    {
      "cell_type": "markdown",
      "metadata": {
        "id": "1uITnjZCfic8",
        "colab_type": "text"
      },
      "source": [
        "**Условие**:\n",
        "\n",
        "Вы - банкомат, который работает по следующей схеме: считывает номер вставленной в него карты, парсит его на 4 равные части и генерирует 4 числа Фибоначчи с номерами, соответствущими распаршенным частям. Затем генерирует числа из всевозможных перестановок полученных чисел Фибоначчи (конкатенацией).\n",
        "\n",
        "Для каждого числа из полученного набора банкомат находит НОД с введеным пользователем паролем и возвращает медиану из полученных НОДов. \n",
        "\n",
        "**Комментарии**:\n",
        "\n",
        "1) Поток клиентов большой, операции повторяющиеся - хорошо бы, чтобы со временем банкомат отвечал быстрее на запросы.\n",
        "\n",
        "2) За неполное решение также дается часть баллов.\n",
        "\n",
        "**Ключевые слова**: lru_cache, permutations, алгоритм Евклида"
      ]
    },
    {
      "cell_type": "code",
      "metadata": {
        "id": "Ouy01hc3U6wT",
        "colab_type": "code",
        "colab": {}
      },
      "source": [
        "from functools import lru_cache"
      ],
      "execution_count": 0,
      "outputs": []
    },
    {
      "cell_type": "code",
      "metadata": {
        "id": "e4ZwzPhDLx4R",
        "colab_type": "code",
        "colab": {}
      },
      "source": [
        "def get_nod(a,b):\n",
        "  if a >= b:\n",
        "    big = a\n",
        "    small = b\n",
        "  else:\n",
        "    big = b\n",
        "    small = a\n",
        "  while(big % small != 0):\n",
        "    remainder = big % small\n",
        "    big = small\n",
        "    small = remainder\n",
        "  return small"
      ],
      "execution_count": 0,
      "outputs": []
    },
    {
      "cell_type": "code",
      "metadata": {
        "id": "fKGiaIxPRit5",
        "colab_type": "code",
        "colab": {}
      },
      "source": [
        "#problem depth of recurssion\n",
        "'''\n",
        "@lru_cache(maxsize=None)\n",
        "def fib(n):\n",
        "  if n < 2:\n",
        "    return n \n",
        "  return fib(n-1) + fib(n-2)\n",
        "'''"
      ],
      "execution_count": 0,
      "outputs": []
    },
    {
      "cell_type": "code",
      "metadata": {
        "id": "P9ME2P0jJMo-",
        "colab_type": "code",
        "colab": {}
      },
      "source": [
        "# problem float\n",
        "'''\n",
        "def fib_2(n):\n",
        "  root = 5 ** 0.5\n",
        "  left = (1+root)/2\n",
        "  right = (1-root)/2\n",
        "  result = (left**n - right**n)/root\n",
        "  return result\n",
        "'''"
      ],
      "execution_count": 0,
      "outputs": []
    },
    {
      "cell_type": "code",
      "metadata": {
        "id": "ctAsr46nL-V0",
        "colab_type": "code",
        "colab": {}
      },
      "source": [
        "#let's use fib_3 for further calculations\n",
        "def fib_3(n):\n",
        "  c, d, f, v = 1, 0, 0, 1\n",
        "  while n > 0:\n",
        "      if n % 2 == 0: \n",
        "          k = f\n",
        "          f = f*f + v*v\n",
        "          v = 2*k*v + v*v\n",
        "          n //= 2\n",
        "      else:\n",
        "          o = c\n",
        "          c = d*v + c*v + c*f\n",
        "          d = d*f + o*v\n",
        "          n -= 1\n",
        "  return d"
      ],
      "execution_count": 0,
      "outputs": []
    },
    {
      "cell_type": "code",
      "metadata": {
        "id": "7W_1pnGZMU3B",
        "colab_type": "code",
        "colab": {
          "base_uri": "https://localhost:8080/",
          "height": 54
        },
        "outputId": "e43d720b-d711-4e78-fa78-589889346ff0"
      },
      "source": [
        "fib_3(9999)"
      ],
      "execution_count": 55,
      "outputs": [
        {
          "output_type": "execute_result",
          "data": {
            "text/plain": [
              "20793608237133498072112648988642836825087036094015903119682945866528501423455686648927456034305226515591757343297190158010624794267250973176133810179902738038231789748346235556483191431591924532394420028067810320408724414693462849062668387083308048250920654493340878733226377580847446324873797603734794648258113858631550404081017260381202919943892370942852601647398213554479081823593715429566945149312993664846779090437799284773675379284270660175134664833266377698642012106891355791141872776934080803504956794094648292880566056364718187662668970758537383352677420835574155945658542003634765324541006121012446785689171494803262408602693091211601973938229446636049901531963286159699077880427720289235539329671877182915643419079186525118678856821600897520171070499437657067342400871083908811800976259727431820539554256869460815355918458253398234382360435762759823179896116748424269545924633204614137992850814352018738480923581553988990897151469406131695614497783720743461373756218685106856826090696339815490921253714537241866911604250597353747823733268178182198509240226955826416016690084749816072843582488613184829905383150180047844353751554201573833105521980998123833253261228689824051777846588461079790807828367132384798451794011076569057522158680378961532160858387223882974380483931929541222100800313580688585002598879566463221427820448492565073106595808837401648996423563386109782045634122467872921845606409174360635618216883812562321664442822952537577492715365321134204530686742435454505103269768144370118494906390254934942358904031509877369722437053383165360388595116980245927935225901537634925654872380877183008301074569444002426436414756905094535072804764684492105680024739914490555904391369218696387092918189246157103450387050229300603241611410707453960080170928277951834763216705242485820801423866526633816082921442883095463259080471819329201710147828025221385656340207489796317663278872207607791034431700112753558813478888727503825389066823098683355695718137867882982111710796422706778536913192342733364556727928018953989153106047379741280794091639429908796650294603536651238230626"
            ]
          },
          "metadata": {
            "tags": []
          },
          "execution_count": 55
        }
      ]
    },
    {
      "cell_type": "code",
      "metadata": {
        "id": "Ab2XtghGJvNj",
        "colab_type": "code",
        "colab": {}
      },
      "source": [
        "# we've got some strings\n",
        "# made of 16 digits\n",
        "\n",
        "def parser_number(card_number):\n",
        "  card_values=[]\n",
        "  for i in range(4):\n",
        "    card_values.append(card_number[4*i:4*i+4])\n",
        "  return card_values"
      ],
      "execution_count": 0,
      "outputs": []
    },
    {
      "cell_type": "code",
      "metadata": {
        "id": "8nIv87OLSY_4",
        "colab_type": "code",
        "colab": {}
      },
      "source": [
        "numbers = parser_number('1234567891234567')"
      ],
      "execution_count": 0,
      "outputs": []
    },
    {
      "cell_type": "code",
      "metadata": {
        "id": "3r1ZTljdTEoz",
        "colab_type": "code",
        "colab": {}
      },
      "source": [
        "numbers_int = [int(x) for x in numbers]"
      ],
      "execution_count": 0,
      "outputs": []
    },
    {
      "cell_type": "code",
      "metadata": {
        "id": "V65d6CGhTGcN",
        "colab_type": "code",
        "colab": {}
      },
      "source": [
        "numbers_int_fib = [(str(fib_3(x))) for x in numbers_int]"
      ],
      "execution_count": 0,
      "outputs": []
    },
    {
      "cell_type": "code",
      "metadata": {
        "id": "vEjDoUUVLxs5",
        "colab_type": "code",
        "colab": {}
      },
      "source": [
        "from itertools import permutations\n",
        "def conc_fib(numbers_int_fib):\n",
        "  conc_fib=[]\n",
        "  for item in permutations(numbers_int_fib, 4):\n",
        "    conc_fib.append(((''.join(item))))"
      ],
      "execution_count": 0,
      "outputs": []
    },
    {
      "cell_type": "code",
      "metadata": {
        "id": "K_TRt-dJTchy",
        "colab_type": "code",
        "colab": {}
      },
      "source": [
        "final_numbers_str = conc_fib(numbers_int_fib)"
      ],
      "execution_count": 0,
      "outputs": []
    },
    {
      "cell_type": "code",
      "metadata": {
        "id": "RXUlPSFtTceM",
        "colab_type": "code",
        "colab": {
          "base_uri": "https://localhost:8080/",
          "height": 34
        },
        "outputId": "509e203f-ddd7-4ed3-9441-f27c52eaea13"
      },
      "source": [
        ""
      ],
      "execution_count": 76,
      "outputs": [
        {
          "output_type": "stream",
          "text": [
            "None\n"
          ],
          "name": "stdout"
        }
      ]
    },
    {
      "cell_type": "code",
      "metadata": {
        "id": "sl96ZQV9Tcbl",
        "colab_type": "code",
        "colab": {}
      },
      "source": [
        ""
      ],
      "execution_count": 0,
      "outputs": []
    },
    {
      "cell_type": "markdown",
      "metadata": {
        "id": "6-kADxiufic_",
        "colab_type": "text"
      },
      "source": [
        "### Домашнее задание №3 [0 - 0.1 балла]\n",
        "\n",
        "**Условие:**\n",
        "    \n",
        "Сравнить скорость работы и потребление памяти list и deque.\n",
        "\n",
        "**Комментарий:**\n",
        "\n",
        "Количесвто баллов зависит от полноты сравнения."
      ]
    },
    {
      "cell_type": "markdown",
      "metadata": {
        "id": "YvjKxTdcfidB",
        "colab_type": "text"
      },
      "source": [
        "### Домашнее задание №4 [0 - 0.1 балла]\n",
        "\n",
        "**Условие:**\n",
        "    \n",
        "Написать аналог permutations и провести сравнение скорости работы и потребления памяти.\n",
        "\n",
        "**Комментарий:**\n",
        "\n",
        "Количесвто баллов зависит от полноты сравнения."
      ]
    },
    {
      "cell_type": "code",
      "metadata": {
        "id": "Ta_kyOdNO_Qw",
        "colab_type": "code",
        "colab": {}
      },
      "source": [
        "#я нашёл решение, своё не успел написать\n",
        "#https://stackoverflow.com/questions/104420/how-to-generate-all-permutations-of-a-list-in-python"
      ],
      "execution_count": 0,
      "outputs": []
    },
    {
      "cell_type": "code",
      "metadata": {
        "id": "OA-U9qF4PK3I",
        "colab_type": "code",
        "colab": {
          "base_uri": "https://localhost:8080/",
          "height": 34
        },
        "outputId": "479d7f96-cca7-454f-de8f-e44eb4c86507"
      },
      "source": [
        "permutations([1,2,3,4],3)"
      ],
      "execution_count": 57,
      "outputs": [
        {
          "output_type": "execute_result",
          "data": {
            "text/plain": [
              "<generator object permutations at 0x7ff4c39c7fc0>"
            ]
          },
          "metadata": {
            "tags": []
          },
          "execution_count": 57
        }
      ]
    },
    {
      "cell_type": "code",
      "metadata": {
        "id": "dEpob2NpgAyw",
        "colab_type": "code",
        "colab": {
          "base_uri": "https://localhost:8080/",
          "height": 119
        },
        "outputId": "0a49dfe0-8cdb-479e-9f49-0385a448786f"
      },
      "source": [
        "from itertools import permutations\n",
        " \n",
        "for item in permutations('WXY', 2):\n",
        "    print(''.join(item))"
      ],
      "execution_count": 5,
      "outputs": [
        {
          "output_type": "stream",
          "text": [
            "WX\n",
            "WY\n",
            "XW\n",
            "XY\n",
            "YW\n",
            "YX\n"
          ],
          "name": "stdout"
        }
      ]
    },
    {
      "cell_type": "code",
      "metadata": {
        "id": "tuhSruuEgJrM",
        "colab_type": "code",
        "colab": {
          "base_uri": "https://localhost:8080/",
          "height": 119
        },
        "outputId": "218159a7-b459-4ff8-c39d-a479ee2efc8d"
      },
      "source": [
        "for item in permutations([1,2,4], 2):\n",
        "  print(''.join(str(item)))"
      ],
      "execution_count": 8,
      "outputs": [
        {
          "output_type": "stream",
          "text": [
            "(1, 2)\n",
            "(1, 4)\n",
            "(2, 1)\n",
            "(2, 4)\n",
            "(4, 1)\n",
            "(4, 2)\n"
          ],
          "name": "stdout"
        }
      ]
    },
    {
      "cell_type": "code",
      "metadata": {
        "id": "htDWEv6DVKMy",
        "colab_type": "code",
        "colab": {}
      },
      "source": [
        "# ниже просто мои попытки"
      ],
      "execution_count": 0,
      "outputs": []
    },
    {
      "cell_type": "code",
      "metadata": {
        "id": "g5eSzqANmqxk",
        "colab_type": "code",
        "colab": {}
      },
      "source": [
        "def perestanovki(iter_obj , len_per=None):\n",
        "  out_per = []\n",
        "  for i in range(len(iter_obj)):\n",
        "    len_per_res = [None] * len_per\n",
        "    for j in range(len_per):\n",
        "      len_per_res[j] = iter_obj[i+j]\n",
        "      \n",
        "    out_per.append(len_per_res)\n",
        "    "
      ],
      "execution_count": 0,
      "outputs": []
    },
    {
      "cell_type": "code",
      "metadata": {
        "id": "6W1SO2k7v8d3",
        "colab_type": "code",
        "colab": {
          "base_uri": "https://localhost:8080/",
          "height": 68
        },
        "outputId": "765a3976-dfb3-4005-9746-0a5eb705a0e4"
      },
      "source": [
        "for j in range(3):\n",
        "  print(j)"
      ],
      "execution_count": 11,
      "outputs": [
        {
          "output_type": "stream",
          "text": [
            "0\n",
            "1\n",
            "2\n"
          ],
          "name": "stdout"
        }
      ]
    },
    {
      "cell_type": "code",
      "metadata": {
        "id": "8mxLOTY801Pl",
        "colab_type": "code",
        "colab": {}
      },
      "source": [
        "def perestanovki(iter_obj , len_per=None):\n",
        "  out_set = []\n",
        "  for i in range(len(iter_obj)):\n",
        "    iter_obj_2 = iter_obj.copy()\n",
        "    len_per_res = [None] * len_per\n",
        "    \n",
        "    len_per_res[0] = iter_obj_2[i]\n",
        "    len_per_res[1] = iter_obj[1]"
      ],
      "execution_count": 0,
      "outputs": []
    },
    {
      "cell_type": "code",
      "metadata": {
        "id": "IRII7wHqIJl4",
        "colab_type": "code",
        "colab": {}
      },
      "source": [
        "list_some = [1,2,3,4]\n",
        "k=3\n",
        "eles=[]"
      ],
      "execution_count": 0,
      "outputs": []
    },
    {
      "cell_type": "code",
      "metadata": {
        "id": "_EA233fHITAH",
        "colab_type": "code",
        "colab": {
          "base_uri": "https://localhost:8080/",
          "height": 34
        },
        "outputId": "8163d44f-ea07-4732-a7c0-376df08d4660"
      },
      "source": [
        "\n",
        "list_some"
      ],
      "execution_count": 39,
      "outputs": [
        {
          "output_type": "execute_result",
          "data": {
            "text/plain": [
              "[3, 4]"
            ]
          },
          "metadata": {
            "tags": []
          },
          "execution_count": 39
        }
      ]
    },
    {
      "cell_type": "code",
      "metadata": {
        "id": "YWCS_bSJ9IVA",
        "colab_type": "code",
        "colab": {
          "base_uri": "https://localhost:8080/",
          "height": 231
        },
        "outputId": "0562caae-49e4-4101-9554-90dad48baee9"
      },
      "source": [
        "\n",
        "for i in range(len(list_some)):\n",
        "  list_some_temp = list_some.copy()\n",
        "  temp = [None] * k\n",
        "  for j in range(k):\n",
        "    f = list_some_temp.pop(0)\n",
        "    temp[j] = f\n",
        "  eles.append(temp)\n",
        "  temp_var = list_some[i]\n",
        "  list_some.pop(i)\n",
        "  list_some[0] = temp_var"
      ],
      "execution_count": 38,
      "outputs": [
        {
          "output_type": "error",
          "ename": "IndexError",
          "evalue": "ignored",
          "traceback": [
            "\u001b[0;31m---------------------------------------------------------------------------\u001b[0m",
            "\u001b[0;31mIndexError\u001b[0m                                Traceback (most recent call last)",
            "\u001b[0;32m<ipython-input-38-652212f1c64f>\u001b[0m in \u001b[0;36m<module>\u001b[0;34m()\u001b[0m\n\u001b[1;32m      4\u001b[0m   \u001b[0mtemp\u001b[0m \u001b[0;34m=\u001b[0m \u001b[0;34m[\u001b[0m\u001b[0;32mNone\u001b[0m\u001b[0;34m]\u001b[0m \u001b[0;34m*\u001b[0m \u001b[0mk\u001b[0m\u001b[0;34m\u001b[0m\u001b[0;34m\u001b[0m\u001b[0m\n\u001b[1;32m      5\u001b[0m   \u001b[0;32mfor\u001b[0m \u001b[0mj\u001b[0m \u001b[0;32min\u001b[0m \u001b[0mrange\u001b[0m\u001b[0;34m(\u001b[0m\u001b[0mk\u001b[0m\u001b[0;34m)\u001b[0m\u001b[0;34m:\u001b[0m\u001b[0;34m\u001b[0m\u001b[0;34m\u001b[0m\u001b[0m\n\u001b[0;32m----> 6\u001b[0;31m     \u001b[0mf\u001b[0m \u001b[0;34m=\u001b[0m \u001b[0mlist_some_temp\u001b[0m\u001b[0;34m.\u001b[0m\u001b[0mpop\u001b[0m\u001b[0;34m(\u001b[0m\u001b[0;36m0\u001b[0m\u001b[0;34m)\u001b[0m\u001b[0;34m\u001b[0m\u001b[0;34m\u001b[0m\u001b[0m\n\u001b[0m\u001b[1;32m      7\u001b[0m     \u001b[0mtemp\u001b[0m\u001b[0;34m[\u001b[0m\u001b[0mj\u001b[0m\u001b[0;34m]\u001b[0m \u001b[0;34m=\u001b[0m \u001b[0mf\u001b[0m\u001b[0;34m\u001b[0m\u001b[0;34m\u001b[0m\u001b[0m\n\u001b[1;32m      8\u001b[0m   \u001b[0meles\u001b[0m\u001b[0;34m.\u001b[0m\u001b[0mappend\u001b[0m\u001b[0;34m(\u001b[0m\u001b[0mtemp\u001b[0m\u001b[0;34m)\u001b[0m\u001b[0;34m\u001b[0m\u001b[0;34m\u001b[0m\u001b[0m\n",
            "\u001b[0;31mIndexError\u001b[0m: pop from empty list"
          ]
        }
      ]
    },
    {
      "cell_type": "code",
      "metadata": {
        "id": "yBuh8sKOCDwc",
        "colab_type": "code",
        "colab": {
          "base_uri": "https://localhost:8080/",
          "height": 34
        },
        "outputId": "d07e8fdc-1fcd-4668-ddae-c5e6788b41f3"
      },
      "source": [
        "list_some = [1,2,3,4]\n",
        "list_some_temp = list_some.copy()\n",
        "list_some_temp"
      ],
      "execution_count": 24,
      "outputs": [
        {
          "output_type": "execute_result",
          "data": {
            "text/plain": [
              "[1, 2, 3, 4]"
            ]
          },
          "metadata": {
            "tags": []
          },
          "execution_count": 24
        }
      ]
    }
  ]
}